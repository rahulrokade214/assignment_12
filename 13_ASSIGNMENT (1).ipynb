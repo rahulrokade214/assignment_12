{
 "cells": [
  {
   "cell_type": "markdown",
   "id": "33c427cc-04bc-4c61-91f7-a911a593bed2",
   "metadata": {},
   "source": [
    "## Q1. What is MongoDB? Explain non-relational databases in short. In which scenarios it is preferred to use MongoDB over SQL databases?\n"
   ]
  },
  {
   "cell_type": "markdown",
   "id": "8d0575f1-5622-4540-a29b-20b0718db214",
   "metadata": {},
   "source": [
    "### MongoDB is such a NoSQL database that scales by adding more and more servers and increases productivity with its flexible document model. RDBMS vs MongoDB: RDBMS has a typical schema design that shows number of tables and the relationship between these tables whereas MongoDB is document-oriented."
   ]
  },
  {
   "cell_type": "markdown",
   "id": "5f02d70c-d922-43cc-b73e-156ce7579714",
   "metadata": {},
   "source": [
    "## Q2. State and Explain the features of MongoDB.\n"
   ]
  },
  {
   "cell_type": "markdown",
   "id": "715106cf-864b-480c-9b17-9c51f08128b9",
   "metadata": {},
   "source": [
    "### MongoDB is an open-source document-oriented database that is designed to store a large scale of data and also allows you to work with that data very efficiently. It is categorized under the NoSQL (Not only SQL) database because the storage and retrieval of data in the MongoDB are not in the form of tables. ### MongoDB is an open-source document-oriented database that is designed to store a large scale of data and also allows you to work with that data very efficiently. It is categorized under the NoSQL (Not only SQL) database because the storage and retrieval of data in the MongoDB are not in the form of tables. "
   ]
  },
  {
   "cell_type": "markdown",
   "id": "7a6be50a-a4bb-4fab-8f19-eda329924d6b",
   "metadata": {},
   "source": [
    "## Q3. Write a code to connect MongoDB to Python. Also, create a database and a collection in MongoDB.\n"
   ]
  },
  {
   "cell_type": "markdown",
   "id": "09d5636d-2d02-44d0-ae2d-2051cf2c53f7",
   "metadata": {},
   "source": [
    "### Python, the top programming language for data science, and MongoDB, with its flexible and dynamic schema, are a fantastic match for building modern web applications, JSON APIs, and data processors, just to name a few. MongoDB has a native Python driver and a team of engineers dedicated to making sure MongoDB and Python work together flawlessly."
   ]
  },
  {
   "cell_type": "markdown",
   "id": "24c2ca12-6b87-4449-aac1-f51951390b3d",
   "metadata": {},
   "source": [
    "## Q4. Using the database and the collection created in question number 3, write a code to insert one record,and insert many records. Use the find() and find_one() methods to print the inserted record.\n"
   ]
  },
  {
   "cell_type": "markdown",
   "id": "190b3d57-f17d-4cc4-b148-da60e64a603e",
   "metadata": {},
   "source": [
    "### In MongoDB, the insert() method inserts a document or documents into the collection. It takes two parameters, the first parameter is the document or array of the document that we want to insert and the remaining are optional."
   ]
  },
  {
   "cell_type": "markdown",
   "id": "de55ecff-9292-473f-9dc6-4b70becb2d17",
   "metadata": {},
   "source": [
    "## Q5. Explain how you can use the find() method to query the MongoDB database. Write a simple code to demonstrate this.\n"
   ]
  },
  {
   "cell_type": "markdown",
   "id": "f18010bf-018f-4761-a8c8-4420769df214",
   "metadata": {},
   "source": [
    "### NoSQL databases (aka \"not only SQL\") are non-tabular databases and store data differently than relational tables. NoSQL databases come in a variety of types based on their data model. The main types are document, key-value, wide-column, and graph. They provide flexible schemas and scale easily with large amounts of data and high user loads."
   ]
  },
  {
   "cell_type": "markdown",
   "id": "39731e07-8aa7-4d94-8fb6-32b766bc4368",
   "metadata": {},
   "source": [
    "## Q6. Explain the sort() method. Give an example to demonstrate sorting in MongoDB.\n"
   ]
  },
  {
   "cell_type": "markdown",
   "id": "5ab895bb-a8af-4e35-a08e-0f96a40dc6a5",
   "metadata": {},
   "source": [
    "### The sort() method specifies the order in which the query returns the matching documents from the given collection. You must apply this method to the cursor before retrieving any documents from the database. It takes a document as a parameter that contains a field: value pair that defines the sort order of the result set. The value is 1 or -1 specifying an ascending or descending sort respectively."
   ]
  },
  {
   "cell_type": "markdown",
   "id": "77dd9497-5f6f-4d16-911c-579a5758f9d0",
   "metadata": {},
   "source": [
    "## Q7. Explain why delete_one(), delete_many(), and drop() is used."
   ]
  },
  {
   "cell_type": "markdown",
   "id": "4804c211-ff74-4705-9551-259357b866b3",
   "metadata": {},
   "source": [
    "### MongoDB is a general-purpose, document-based, distributed database built for modern application developers and the cloud. It is a document database, which means it stores data in JSON-like documents. This is an efficient way to think about data and is more expressive and powerful than the traditional table model."
   ]
  }
 ],
 "metadata": {
  "kernelspec": {
   "display_name": "Python 3 (ipykernel)",
   "language": "python",
   "name": "python3"
  },
  "language_info": {
   "codemirror_mode": {
    "name": "ipython",
    "version": 3
   },
   "file_extension": ".py",
   "mimetype": "text/x-python",
   "name": "python",
   "nbconvert_exporter": "python",
   "pygments_lexer": "ipython3",
   "version": "3.10.8"
  }
 },
 "nbformat": 4,
 "nbformat_minor": 5
}
